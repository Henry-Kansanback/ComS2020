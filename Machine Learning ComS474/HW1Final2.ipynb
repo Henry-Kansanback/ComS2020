{
 "cells": [
  {
   "cell_type": "code",
   "execution_count": 17,
   "metadata": {},
   "outputs": [
    {
     "name": "stdout",
     "output_type": "stream",
     "text": [
      "<class 'numpy.ndarray'> [  50  100  150  200  250  300  350  400  450  500  550  600  650  700\n",
      "  750  800  850  900  950 1000 1050 1100 1150 1200 1250 1300 1350 1400\n",
      " 1450 1500 1550 1600 1650 1700 1750 1800 1850 1900 1950 2000]\n",
      "<class 'numpy.ndarray'> [-24.51278849 -12.85005896  -5.10367004  -0.83518952   0.80244685\n",
      "   0.95013148   0.99709909   0.9976026    0.99788376   0.99824363\n",
      "   0.99841461   0.99867735   0.9988531    0.99903729   0.99898587\n",
      "   0.99925445   0.99907852   0.99944196   0.9994056    0.99958272\n",
      "   0.99944768   0.99966185   0.99947082   0.99973233   0.99948576\n",
      "   0.99979433   0.99949255   0.99979446   0.99949794   0.99979457\n",
      "   0.9995029    0.99979466   0.99950388   0.99979473   0.99950464\n",
      "   0.99979481   0.9995053    0.99979489   0.99950589   0.99979496]\n",
      "34e7aee99e5d642038bb6312767c0792\n",
      "\n",
      "<class 'numpy.ndarray'> [  50  100  150  200  250  300  350  400  450  500  550  600  650  700\n",
      "  750  800  850  900  950 1000 1050 1100 1150 1200 1250 1300 1350 1400\n",
      " 1450 1500 1550 1600 1650 1700 1750 1800 1850 1900 1950 2000]\n",
      "<class 'numpy.ndarray'> [0. 0. 0. 0. 0. 0. 0. 0. 0. 0. 0. 0. 0. 0. 0. 0. 0. 0. 0. 0. 0. 0. 0. 0.\n",
      " 0. 0. 0. 0. 0. 0. 0. 0. 0. 0. 0. 0. 0. 0. 0. 0.]\n",
      "d05a1f214e4c90f5d23ee4b8b35930ed\n"
     ]
    },
    {
     "data": {
      "image/png": "[encoded data removed]",
      "text/plain": [
       "<Figure size 432x288 with 1 Axes>"
      ]
     },
     "metadata": {
      "needs_background": "light"
     },
     "output_type": "display_data"
    }
   ],
   "source": [
    "# 144\n",
    "\n",
    "import sklearn.neural_network\n",
    "import numpy\n",
    "import matplotlib.pyplot\n",
    "\n",
    "import itertools \n",
    "\n",
    "def test_NN(Ts, Hs, max_iter=200):\n",
    "    NN = sklearn.neural_network.MLPRegressor(\n",
    "        hidden_layer_sizes=(4,4), \n",
    "        activation='tanh', \n",
    "        random_state = 1, \n",
    "        max_iter=max_iter\n",
    "        )\n",
    "    Ts = Ts.reshape(-1, 1) # learned from error\n",
    "    NN.fit(Ts, Hs)\n",
    "#     predictions = NN.predict(Ts)\n",
    "    score = NN.score(Ts, Hs)\n",
    "    return score\n",
    "\n",
    "def learning_curve(Ts, Hs, filename):\n",
    "    max_iters, scores = None, None # place holder \n",
    "    #max_iter = 1\n",
    "    NN = sklearn.neural_network.MLPRegressor(\n",
    "        hidden_layer_sizes=(4,4),\n",
    "        activation='tanh',\n",
    "        random_state = 1,\n",
    "        max_iter=50,\n",
    "        warm_start=True\n",
    "        )\n",
    "    scores = []\n",
    "    max_iters = []\n",
    "    Ts = Ts.reshape(-1,1)\n",
    "    #NN.fit(X,y)\n",
    "    #score = NN.score(X,y)\n",
    "    for i in range(50,2050,50):\n",
    "        NN.fit(Ts,Hs)\n",
    "        scorevar = NN.score(Ts,Hs)\n",
    "        scores.append(scorevar)\n",
    "        \n",
    "        max_iters.append(i)\n",
    "    matplotlib.pyplot.plot(max_iters,scores)\n",
    "   # matplotlib.pyplot.savefig(filename + '.png')\n",
    "    matplotlib.pyplot.savefig(filename)\n",
    "    max_iters = numpy.asarray(max_iters)\n",
    "    scores = numpy.asarray(scores)\n",
    "    return max_iters, scores\n",
    "\n",
    "def self_checker(*args): \n",
    "    X, y = learning_curve(*args)\n",
    "    print (type(X), X)\n",
    "    print (type(y), y)\n",
    "    import hashlib\n",
    "    print (hashlib.md5(open(args[2], \"rb\").read()).hexdigest())\n",
    "\n",
    "def f(a, b, c):\n",
    "    \"\"\"\n",
    "    a, b: 1-D numpy.ndarray\n",
    "    c: str, placeholder\n",
    "    \"\"\"\n",
    "    return a+b, a-b, a*b\n",
    "\n",
    "if __name__ == \"__main__\":\n",
    "    import warnings\n",
    "    warnings.filterwarnings(\"ignore\")\n",
    "\n",
    "    self_checker(numpy.array([1,2]), numpy.array([3,4]), \"test.png\")\n",
    "    print()\n",
    "    self_checker(numpy.array([1,2,3,4]), numpy.array([-1,-1,-1,-1]), \"test.pdf\")"
   ]
  }
 ],
 "metadata": {
  "kernelspec": {
   "display_name": "Python 3",
   "language": "python",
   "name": "python3"
  },
  "language_info": {
   "codemirror_mode": {
    "name": "ipython",
    "version": 3
   },
   "file_extension": ".py",
   "mimetype": "text/x-python",
   "name": "python",
   "nbconvert_exporter": "python",
   "pygments_lexer": "ipython3",
   "version": "3.8.3"
  }
 },
 "nbformat": 4,
 "nbformat_minor": 4
}
