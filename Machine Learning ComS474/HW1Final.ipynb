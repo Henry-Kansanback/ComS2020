{
 "cells": [
  {
   "cell_type": "code",
   "execution_count": null,
   "metadata": {},
   "outputs": [],
   "source": [
    "#Answer to Problem 1 is 144 different expressions\n",
    "\n",
    "\n",
    "import sklearn.neural_network\n",
    "import matplotlib.pyplot\n",
    "\n",
    "def learning_curve(X, y, filename):\n",
    "    max_iter = 2000\n",
    "    NN = sklearn.neural_network.MLPRegressor(\n",
    "        hidden_layer_sizes=(4,4),\n",
    "        activation='tanh',\n",
    "        max_iter=max_iter\n",
    "        )\n",
    "    scoref = []\n",
    "    max = []\n",
    "    X = X.reshape(-1,1)\n",
    "    #NN.fit(X,y)\n",
    "    #score = NN.score(X,y)\n",
    "    for max_i in range(50,2050,50):\n",
    "        NN.fit(X,y)\n",
    "        scorevar = NN.score(X,y)\n",
    "        scoref.append(scorevar)\n",
    "        max.append(max_i)\n",
    "    matplotlib.pyplot.plot(max,scoref)\n",
    "    matplotlib.pyplot.savefig(filename + '.png')\n",
    "    return max, scoref"
   ]
  }
 ],
 "metadata": {
  "kernelspec": {
   "display_name": "Python 3",
   "language": "python",
   "name": "python3"
  },
  "language_info": {
   "codemirror_mode": {
    "name": "ipython",
    "version": 3
   },
   "file_extension": ".py",
   "mimetype": "text/x-python",
   "name": "python",
   "nbconvert_exporter": "python",
   "pygments_lexer": "ipython3",
   "version": "3.8.3"
  }
 },
 "nbformat": 4,
 "nbformat_minor": 4
}
